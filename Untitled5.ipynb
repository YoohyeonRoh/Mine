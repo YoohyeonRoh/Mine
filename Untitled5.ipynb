{
  "nbformat": 4,
  "nbformat_minor": 0,
  "metadata": {
    "colab": {
      "provenance": [],
      "authorship_tag": "ABX9TyPbNGhCZI9j8OhOWRGnfkED",
      "include_colab_link": true
    },
    "kernelspec": {
      "name": "python3",
      "display_name": "Python 3"
    },
    "language_info": {
      "name": "python"
    }
  },
  "cells": [
    {
      "cell_type": "markdown",
      "metadata": {
        "id": "view-in-github",
        "colab_type": "text"
      },
      "source": [
        "<a href=\"https://colab.research.google.com/github/YoohyeonRoh/Mine/blob/master/Untitled5.ipynb\" target=\"_parent\"><img src=\"https://colab.research.google.com/assets/colab-badge.svg\" alt=\"Open In Colab\"/></a>"
      ]
    },
    {
      "cell_type": "code",
      "execution_count": null,
      "metadata": {
        "id": "rJFV7ybj5QDf"
      },
      "outputs": [],
      "source": [
        "import tensorflow as tf\n",
        "from tensorflow import keras\n",
        "\n",
        "import numpy as np\n",
        "import matplotlib.pyplot as plt\n",
        "import os\n",
        "\n",
        "\n",
        "print(tf.__version__)   # Tensorflow의 버전을 출력\n",
        "\n",
        "mnist = keras.datasets.mnist\n",
        "\n",
        "# MNIST 데이터를 로드. 다운로드하지 않았다면 다운로드까지 자동으로 진행됩니다.\n",
        "(x_train, y_train), (x_test, y_test) = mnist.load_data()\n",
        "\n",
        "print(len(x_train))  # x_train 배열의 크기"
      ]
    },
    {
      "cell_type": "code",
      "source": [
        "# 자, 한번 불러들인 숫자 손글씨 이미지 하나를 출력해볼까요?\n",
        "# MNIST 데이터셋의 X항목(위 코드에서는 x_train, x_test)은\n",
        "# 이미지 데이터를 담은 행렬(matrix)입니다.\n",
        "\n",
        "plt.imshow(x_train[1],cmap=plt.cm.binary)\n",
        "plt.show()\n",
        "print(y_train[1])     # y_train 행렬의 2번째 값 출력\n",
        "print(x_train.shape)  # 우리가 불러들인 학습용 데이터는 과연 몇 장\n",
        "print(x_test.shape)   # 시험용 데이터의 개수를 확인"
      ],
      "metadata": {
        "id": "McP2wxit5YZu"
      },
      "execution_count": null,
      "outputs": []
    },
    {
      "cell_type": "code",
      "source": [
        "# 인공지능 모델을 훈련시키고 사용할 때,\n",
        "# 일반적으로 입력은 0~1 사이의 값으로 정규화 시켜주는 것이 좋습니다\n",
        "\n",
        "x_train_norm, x_test_norm = x_train / 255.0, x_test / 255.0\n",
        "print('최소값:',np.min(x_train_norm), ' 최대값:',np.max(x_train_norm))"
      ],
      "metadata": {
        "id": "SPA15s1t6gGp"
      },
      "execution_count": null,
      "outputs": []
    },
    {
      "cell_type": "code",
      "source": [
        "print(f\"Before Reshape - x_train_norm shape: {x_train_norm.shape}\")\n",
        "print(f\"Before Reshape - x_test_norm shape: {x_test_norm.shape}\")\n",
        "\n",
        "# 데이터갯수에 -1을 쓰면 reshape시 자동계산됩니다.\n",
        "x_train_reshaped=x_train_norm.reshape( -1, 28, 28, 1)\n",
        "x_test_reshaped=x_test_norm.reshape( -1, 28, 28, 1)\n",
        "\n",
        "print(f\"After Reshape - x_train_reshaped shape: {x_train_reshaped.shape}\")\n",
        "print(f\"After Reshape - x_test_reshaped shape: {x_test_reshaped.shape}\")"
      ],
      "metadata": {
        "id": "KO6F4o5y7kv7"
      },
      "execution_count": null,
      "outputs": []
    },
    {
      "cell_type": "code",
      "source": [
        "# x_train 학습 데이터로 딥러닝 네트워크 학습시키기\n",
        "# epochs=10 은 전체 60,000개의 데이터를 10번 반복\n",
        "\n",
        "model.compile(optimizer='adam',\n",
        "             loss='sparse_categorical_crossentropy',\n",
        "             metrics=['accuracy'])\n",
        "\n",
        "model.fit(x_train_reshaped, y_train, epochs=10)"
      ],
      "metadata": {
        "id": "oE25n-To8Fsv"
      },
      "execution_count": 1,
      "outputs": []
    },
    {
      "cell_type": "code",
      "source": [
        "# x_test 시험용 데이터로 딥러닝 네트워크 확인하\n",
        "\n",
        "test_loss, test_accuracy = model.evaluate(x_test_reshaped,y_test, verbose=2)\n",
        "print(f\"test_loss: {test_loss}\")\n",
        "print(f\"test_accuracy: {test_accuracy}\")"
      ],
      "metadata": {
        "id": "B2SHyRqu8dYC"
      },
      "execution_count": null,
      "outputs": []
    },
    {
      "cell_type": "code",
      "source": [
        "# model.evaluate() 대신에 model.predict()을 사용하면\n",
        "# model이 입력값을 보고 실제로 추론한 확률분포를 출력할 수 있습니다.\n",
        "# 이 함수의 출력값, 즉 확률값이 가장 높은 숫자가 바로 model이 추론한 숫자가 되는 거죠.\n",
        "\n",
        "predicted_result = model.predict(x_test_reshaped)  # model이 추론한 확률값.\n",
        "predicted_labels = np.argmax(predicted_result, axis=1)\n",
        "\n",
        "idx=0  #1번째 x_test를 살펴보자.\n",
        "print('model.predict() 결과 : ', predicted_result[idx])\n",
        "print('model이 추론한 가장 가능성이 높은 결과 : ', predicted_labels[idx])\n",
        "print('실제 데이터의 라벨 : ', y_test[idx])"
      ],
      "metadata": {
        "colab": {
          "base_uri": "https://localhost:8080/",
          "height": 251
        },
        "id": "FL2BE9o0863t",
        "outputId": "75a55c7b-1548-4f1d-e1ee-fa5fd0f829f1"
      },
      "execution_count": 2,
      "outputs": [
        {
          "output_type": "error",
          "ename": "NameError",
          "evalue": "ignored",
          "traceback": [
            "\u001b[0;31m---------------------------------------------------------------------------\u001b[0m",
            "\u001b[0;31mNameError\u001b[0m                                 Traceback (most recent call last)",
            "\u001b[0;32m<ipython-input-2-39a53e1de7b3>\u001b[0m in \u001b[0;36m<cell line: 3>\u001b[0;34m()\u001b[0m\n\u001b[1;32m      1\u001b[0m \u001b[0;31m# model.evaluate() 대신에 model.predict()을 사용하면\u001b[0m\u001b[0;34m\u001b[0m\u001b[0;34m\u001b[0m\u001b[0m\n\u001b[1;32m      2\u001b[0m \u001b[0;34m\u001b[0m\u001b[0m\n\u001b[0;32m----> 3\u001b[0;31m \u001b[0mpredicted_result\u001b[0m \u001b[0;34m=\u001b[0m \u001b[0mmodel\u001b[0m\u001b[0;34m.\u001b[0m\u001b[0mpredict\u001b[0m\u001b[0;34m(\u001b[0m\u001b[0mx_test_reshaped\u001b[0m\u001b[0;34m)\u001b[0m  \u001b[0;31m# model이 추론한 확률값.\u001b[0m\u001b[0;34m\u001b[0m\u001b[0;34m\u001b[0m\u001b[0m\n\u001b[0m\u001b[1;32m      4\u001b[0m \u001b[0mpredicted_labels\u001b[0m \u001b[0;34m=\u001b[0m \u001b[0mnp\u001b[0m\u001b[0;34m.\u001b[0m\u001b[0margmax\u001b[0m\u001b[0;34m(\u001b[0m\u001b[0mpredicted_result\u001b[0m\u001b[0;34m,\u001b[0m \u001b[0maxis\u001b[0m\u001b[0;34m=\u001b[0m\u001b[0;36m1\u001b[0m\u001b[0;34m)\u001b[0m\u001b[0;34m\u001b[0m\u001b[0;34m\u001b[0m\u001b[0m\n\u001b[1;32m      5\u001b[0m \u001b[0;34m\u001b[0m\u001b[0m\n",
            "\u001b[0;31mNameError\u001b[0m: name 'model' is not defined"
          ]
        }
      ]
    },
    {
      "cell_type": "code",
      "source": [
        "#  model이 추론한 숫자 이미지 보\n",
        "plt.imshow(x_test[idx],cmap=plt.cm.binary)\n",
        "plt.show()"
      ],
      "metadata": {
        "id": "vy5OmdYv9aQt"
      },
      "execution_count": null,
      "outputs": []
    },
    {
      "cell_type": "code",
      "source": [
        "# model이 추론해 낸 숫자와 실제 라벨의 값이 다른 경우 확인하\n",
        "\n",
        "import random\n",
        "wrong_predict_list=[]\n",
        "for i, _ in enumerate(predicted_labels):\n",
        "    # i번째 test_labels과 y_test이 다른 경우만 모아 봅시다.\n",
        "    if predicted_labels[i] != y_test[i]:\n",
        "        wrong_predict_list.append(i)\n",
        "\n",
        "# wrong_predict_list 에서 랜덤하게 5개만 뽑아봅시다.\n",
        "samples = random.choices(population=wrong_predict_list, k=5)\n",
        "\n",
        "for n in samples:\n",
        "    print(\"예측확률분포: \" + str(predicted_result[n]))\n",
        "    print(\"라벨: \" + str(y_test[n]) + \", 예측결과: \" + str(predicted_labels[n]))\n",
        "    plt.imshow(x_test[n], cmap=plt.cm.binary)\n",
        "    plt.show()"
      ],
      "metadata": {
        "id": "Ukm8TSFH87A7"
      },
      "execution_count": null,
      "outputs": []
    },
    {
      "cell_type": "code",
      "source": [
        "# 바꿔 볼 수 있는 하이퍼파라미터들\n",
        "n_channel_1=32  # 가장 먼저 32개의 이미지 특징을,\n",
        "n_channel_2=64  # 그 뒤에 32개의 이미지 특징씩을 고려하겠다는 뜻\n",
        "n_dense=64      # 분류기에 사용되는 뉴런의 숫자,  이 값이 클수록 보다 복잡한 분류기\n",
        "n_train_epoch=10\n",
        "\n",
        "model=keras.models.Sequential()\n",
        "model.add(keras.layers.Conv2D(n_channel_1, (3,3), activation='relu', input_shape=(28,28,1)))\n",
        "model.add(keras.layers.MaxPool2D(2,2))\n",
        "model.add(keras.layers.Conv2D(n_channel_2, (3,3), activation='relu'))\n",
        "model.add(keras.layers.MaxPooling2D((2,2)))\n",
        "model.add(keras.layers.Flatten())\n",
        "model.add(keras.layers.Dense(n_dense, activation='relu'))\n",
        "model.add(keras.layers.Dense(10, activation='softmax'))\n",
        "\n",
        "model.summary()    # 우리가 만든 딥러닝 네트워크 모델을 확인\n",
        "model.compile(optimizer='adam',\n",
        "             loss='sparse_categorical_crossentropy',\n",
        "             metrics=['accuracy'])\n",
        "\n",
        "# 모델 훈련\n",
        "model.fit(x_train_reshaped, y_train, epochs=n_train_epoch)\n",
        "\n",
        "# 모델 시험\n",
        "test_loss, test_accuracy = model.evaluate(x_test_reshaped, y_test, verbose=2)\n",
        "print(f\"test_loss: {test_loss} \")\n",
        "print(f\"test_accuracy: {test_accuracy}\")"
      ],
      "metadata": {
        "id": "XKpFROKq5YjG"
      },
      "execution_count": null,
      "outputs": []
    }
  ]
}